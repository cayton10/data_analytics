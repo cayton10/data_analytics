{
 "cells": [
  {
   "cell_type": "markdown",
   "metadata": {},
   "source": [
    "# U.S. Medical Insurance Costs"
   ]
  },
  {
   "attachments": {},
   "cell_type": "markdown",
   "metadata": {},
   "source": [
    "## NB Purpose\n",
    "This portfolio project is the culmination of the 1st part of Data Science Fundamentals within the Data Science \"Analytics\" track Codecademy course.\n",
    "\n",
    "The purpose of this notebook is to act as a dev, experiment, and analysis envrionment for the data set provided for the project.\n",
    "I was given a .csv file and told to analyze the information in Jupyter NB, so here we are.\n",
    "\n",
    "## Scope:\n",
    "The data set is organized with 7 descriptive fields: Age, Sex (M,F), Body Mass Index (BMI), Number of Children (Children), Smoker (text binary), region (Assuming this is representative of US regions), and Charges (Yearly Premium???)\n",
    "\n",
    "Possible topics of investigation:\n",
    "- Avg age of individuals within the data set\n",
    "- Avg cost of coverage for smokers\n",
    "- Relationship of Region to Smoker status\n",
    "- Relationship of Region to BMI\n",
    "- Relationship of Age to BMI\n",
    "- Avg age of individuals with:\n",
    "  - 1 child\n",
    "  - 2 children\n",
    "  - 3 children\n",
    "  - 4 or more children\n",
    "- Percentage of smokers with children vs no children\n",
    "\n",
    "## Data Presentation\n",
    "#### Keys:\n",
    "Key       | age  | sex | bmi | children | smoker | region | charges |\n",
    "--------- | -----|-----| ---|---|---|---|-|\n",
    "Data Type | int| string | float | int | string | string | float |\n"
   ]
  },
  {
   "cell_type": "code",
   "execution_count": 1,
   "metadata": {},
   "outputs": [],
   "source": [
    "%load_ext autoreload\n",
    "%autoreload 2"
   ]
  },
  {
   "cell_type": "code",
   "execution_count": 2,
   "metadata": {},
   "outputs": [],
   "source": [
    "# Import block for required mods\n",
    "import functions.insurance_functions as my_functions\n",
    "import csv\n",
    "import json\n",
    "\n",
    "# Load csv data into dictionary\n",
    "data_list = []\n",
    "with open('./data/insurance.csv', 'r') as insurance_file_obj:\n",
    "    csv_reader = csv.DictReader(insurance_file_obj, delimiter=',')\n",
    "    for record in csv_reader:\n",
    "        data_list.append(record)\n",
    "# A dictionary would be ideal for this data set, but given each record has no key identifying this information; an indexed list will have to suffice\n"
   ]
  },
  {
   "attachments": {},
   "cell_type": "markdown",
   "metadata": {},
   "source": [
    "### Avg Age of Individuals within the Data Set\n",
    "Calls the function to find the information and prints for markdown purposes"
   ]
  },
  {
   "cell_type": "code",
   "execution_count": 3,
   "metadata": {},
   "outputs": [
    {
     "name": "stdout",
     "output_type": "stream",
     "text": [
      "The average age across the entire health insurance data set is: 39.21\n"
     ]
    }
   ],
   "source": [
    "average_age_key = \"age\"\n",
    "average_age_of_dataset = round(my_functions.find_average(data_list, average_age_key), 2)\n",
    "print(f\"The average age across the entire health insurance data set is: {average_age_of_dataset}\")"
   ]
  },
  {
   "attachments": {},
   "cell_type": "markdown",
   "metadata": {},
   "source": [
    "### Avg Premium Paid By Smokers vs Non-Smokers"
   ]
  },
  {
   "cell_type": "code",
   "execution_count": 9,
   "metadata": {},
   "outputs": [
    {
     "name": "stdout",
     "output_type": "stream",
     "text": [
      "Number of smokers in data set:  274 Avg cost: $ 32050.23\n",
      "Number of non-smokers in data set:  1064 Avg cost: $ 8434.27\n",
      "\n",
      "\n",
      "Smokers pay an average of 280.0% more for health insurance premiums than non-smokers\n"
     ]
    }
   ],
   "source": [
    "# Split the list of records into two separate lists based on smoking status\n",
    "smokers = my_functions.extract_records_by_key(data_list, \"smoker\", \"yes\")\n",
    "non_smokers = my_functions.extract_records_by_key(data_list, \"smoker\", \"no\")\n",
    "avg_smoker_cost = my_functions.find_average(smokers, \"charges\")\n",
    "avg_non_smoker_cost = my_functions.find_average(non_smokers, \"charges\")\n",
    "print(\"Number of smokers in data set: \", len(smokers), \"Avg cost: $\", round(avg_smoker_cost, 2))\n",
    "print(\"Number of non-smokers in data set: \", len(non_smokers), \"Avg cost: $\", round(avg_non_smoker_cost, 2))\n",
    "smokers_pay_percent_more = round(((avg_smoker_cost - avg_non_smoker_cost) / avg_non_smoker_cost) * 100, 2)\n",
    "print()\n",
    "\n",
    "print(f\"\\nSmokers pay an average of {smokers_pay_percent_more}% more for health insurance premiums than non-smokers\")\n",
    "\n"
   ]
  },
  {
   "attachments": {},
   "cell_type": "markdown",
   "metadata": {},
   "source": [
    "### Smoker Status and Region Relationship\n",
    "This analysis is to investigate the potential correlation between a person's living region and their smoking status."
   ]
  },
  {
   "cell_type": "code",
   "execution_count": 10,
   "metadata": {},
   "outputs": [
    {
     "name": "stdout",
     "output_type": "stream",
     "text": [
      "['southwest', 'southeast', 'northwest', 'northeast']\n"
     ]
    }
   ],
   "source": [
    "# Find each unique region and store into a separate list so we can put records into buckets programmatically\n",
    "region_list = my_functions.get_unique_values(data_list, \"region\")\n",
    "print(region_list)\n",
    "my_functions.bucket_regional_values_by_key(region_list, \"smoker\", smokers)"
   ]
  }
 ],
 "metadata": {
  "kernelspec": {
   "display_name": "base",
   "language": "python",
   "name": "python3"
  },
  "language_info": {
   "codemirror_mode": {
    "name": "ipython",
    "version": 3
   },
   "file_extension": ".py",
   "mimetype": "text/x-python",
   "name": "python",
   "nbconvert_exporter": "python",
   "pygments_lexer": "ipython3",
   "version": "3.9.13"
  },
  "vscode": {
   "interpreter": {
    "hash": "1c5f69762c9c6bc4246d2653e71b9426b6279c94dd928a2deff9ec30b795e856"
   }
  }
 },
 "nbformat": 4,
 "nbformat_minor": 4
}
